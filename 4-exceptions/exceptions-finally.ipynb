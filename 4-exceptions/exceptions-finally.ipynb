{
 "cells": [
  {
   "cell_type": "code",
   "execution_count": 1,
   "id": "794f9c0d",
   "metadata": {},
   "outputs": [],
   "source": [
    "def get_inverse(x):\n",
    "    try:\n",
    "        return 1 / x\n",
    "    except ZeroDivisionError:\n",
    "        return None\n",
    "    finally:\n",
    "        print('I am always printed!')"
   ]
  },
  {
   "cell_type": "code",
   "execution_count": 2,
   "id": "a02d1fc0",
   "metadata": {},
   "outputs": [
    {
     "name": "stdout",
     "output_type": "stream",
     "text": [
      "I am always printed!\n",
      "0.2\n"
     ]
    }
   ],
   "source": [
    "print(get_inverse(5))"
   ]
  },
  {
   "cell_type": "code",
   "execution_count": 3,
   "id": "1edc83bb",
   "metadata": {},
   "outputs": [
    {
     "name": "stdout",
     "output_type": "stream",
     "text": [
      "I am always printed!\n",
      "None\n"
     ]
    }
   ],
   "source": [
    "print(get_inverse(0))"
   ]
  }
 ],
 "metadata": {
  "kernelspec": {
   "display_name": "Python 3 (ipykernel)",
   "language": "python",
   "name": "python3"
  },
  "language_info": {
   "codemirror_mode": {
    "name": "ipython",
    "version": 3
   },
   "file_extension": ".py",
   "mimetype": "text/x-python",
   "name": "python",
   "nbconvert_exporter": "python",
   "pygments_lexer": "ipython3",
   "version": "3.9.7"
  }
 },
 "nbformat": 4,
 "nbformat_minor": 5
}
