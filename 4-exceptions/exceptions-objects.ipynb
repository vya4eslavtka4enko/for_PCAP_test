{
 "cells": [
  {
   "cell_type": "code",
   "execution_count": 1,
   "id": "7c26cb99",
   "metadata": {},
   "outputs": [],
   "source": [
    "def return_bigger(a, b):\n",
    "    try:\n",
    "        if b > a:\n",
    "            return b\n",
    "        else:\n",
    "            return a\n",
    "    except Exception as e:\n",
    "        print(e)\n",
    "        return None"
   ]
  },
  {
   "cell_type": "code",
   "execution_count": 2,
   "id": "8fcc14f7",
   "metadata": {},
   "outputs": [
    {
     "name": "stdout",
     "output_type": "stream",
     "text": [
      "'>' not supported between instances of 'str' and 'int'\n",
      "None\n"
     ]
    }
   ],
   "source": [
    "print(return_bigger(5, 'b'))"
   ]
  },
  {
   "cell_type": "code",
   "execution_count": 3,
   "id": "fffcfd53",
   "metadata": {},
   "outputs": [
    {
     "name": "stdout",
     "output_type": "stream",
     "text": [
      "Exception\n",
      "GeneratorExit\n",
      "SystemExit\n",
      "KeyboardInterrupt\n",
      "CancelledError\n",
      "DebuggerInitializationError\n"
     ]
    }
   ],
   "source": [
    "for subclass in BaseException.__subclasses__():\n",
    "    print(subclass.__name__)"
   ]
  },
  {
   "cell_type": "code",
   "execution_count": 4,
   "id": "f0247491",
   "metadata": {},
   "outputs": [
    {
     "name": "stdout",
     "output_type": "stream",
     "text": [
      "TypeError\n",
      "StopAsyncIteration\n",
      "StopIteration\n",
      "ImportError\n",
      "OSError\n",
      "EOFError\n",
      "RuntimeError\n",
      "NameError\n",
      "AttributeError\n",
      "SyntaxError\n",
      "LookupError\n",
      "ValueError\n",
      "AssertionError\n",
      "ArithmeticError\n",
      "SystemError\n",
      "ReferenceError\n",
      "MemoryError\n",
      "BufferError\n",
      "Warning\n",
      "Error\n",
      "_OptionError\n",
      "error\n",
      "Verbose\n",
      "_Error\n",
      "SubprocessError\n",
      "_GiveupOnSendfile\n",
      "error\n",
      "LZMAError\n",
      "RegistryError\n",
      "_GiveupOnFastCopy\n",
      "ZMQBaseError\n",
      "Error\n",
      "error\n",
      "PickleError\n",
      "_Stop\n",
      "TokenError\n",
      "StopTokenizing\n",
      "ClassFoundException\n",
      "EndOfBlock\n",
      "TraitError\n",
      "ArgumentError\n",
      "ArgumentTypeError\n",
      "ConfigError\n",
      "ConfigurableError\n",
      "ApplicationError\n",
      "NoIPAddresses\n",
      "Error\n",
      "Incomplete\n",
      "TimeoutError\n",
      "InvalidStateError\n",
      "LimitOverrunError\n",
      "QueueEmpty\n",
      "QueueFull\n",
      "InvalidPortNumber\n",
      "Empty\n",
      "Full\n",
      "DuplicateKernelError\n",
      "TimeoutError\n",
      "COMError\n",
      "ArgumentError\n",
      "ReturnValueIgnoredError\n",
      "KeyReuseError\n",
      "UnknownKeyError\n",
      "LeakedCallbackError\n",
      "BadYieldError\n",
      "ReturnValueIgnoredError\n",
      "Return\n",
      "ErrorDuringImport\n",
      "BdbQuit\n",
      "Restart\n",
      "FindCmdError\n",
      "HomeDirError\n",
      "ProfileDirError\n",
      "IPythonCoreError\n",
      "InputRejected\n",
      "GetoptError\n",
      "OptionError\n",
      "ErrorToken\n",
      "PrefilterError\n",
      "AliasError\n",
      "Error\n",
      "Warning\n",
      "SpaceInInput\n",
      "DOMException\n",
      "ValidationError\n",
      "EditReadOnlyBuffer\n",
      "_Retry\n",
      "InvalidLayoutError\n",
      "HeightIsUnknownError\n",
      "ParserSyntaxError\n",
      "InternalParseError\n",
      "_PositionUpdatingFinished\n",
      "SimpleGetItemNotFound\n",
      "UncaughtAttributeError\n",
      "ParamIssue\n",
      "_JediError\n",
      "OnErrorLeaf\n",
      "InvalidPythonEnvironment\n",
      "MessageError\n",
      "Error\n",
      "HTTPException\n",
      "InteractivelyDefined\n",
      "KillEmbedded\n",
      "QueueEmpty\n",
      "QueueFull\n",
      "ExpatError\n",
      "Error\n",
      "BadZipFile\n",
      "LargeZipFile\n",
      "error\n",
      "com_error\n",
      "internal_error\n",
      "ParseBaseException\n",
      "RecursiveGrammarException\n",
      "ResolutionError\n",
      "UnableToResolveVariableException\n",
      "InvalidTypeInArgsException\n"
     ]
    }
   ],
   "source": [
    "for subclass in Exception.__subclasses__():\n",
    "    print(subclass.__name__)"
   ]
  },
  {
   "cell_type": "code",
   "execution_count": 5,
   "id": "e021bf19",
   "metadata": {},
   "outputs": [
    {
     "name": "stdout",
     "output_type": "stream",
     "text": [
      "()\n"
     ]
    }
   ],
   "source": [
    "try:\n",
    "    raise Exception\n",
    "except Exception as e:\n",
    "    print(e.args)"
   ]
  },
  {
   "cell_type": "code",
   "execution_count": 6,
   "id": "eefe18bd",
   "metadata": {},
   "outputs": [
    {
     "name": "stdout",
     "output_type": "stream",
     "text": [
      "('i do not like it',)\n"
     ]
    }
   ],
   "source": [
    "try:\n",
    "    raise Exception('i do not like it')\n",
    "except Exception as e:\n",
    "    print(e.args)"
   ]
  },
  {
   "cell_type": "code",
   "execution_count": 7,
   "id": "934ae4f1",
   "metadata": {},
   "outputs": [
    {
     "name": "stdout",
     "output_type": "stream",
     "text": [
      "('i do not like it', 'in fact, i do not like it at all')\n"
     ]
    }
   ],
   "source": [
    "try:\n",
    "    raise Exception('i do not like it', 'in fact, i do not like it at all')\n",
    "except Exception as e:\n",
    "    print(e.args)"
   ]
  },
  {
   "cell_type": "code",
   "execution_count": 8,
   "id": "25aaf9cb",
   "metadata": {},
   "outputs": [
    {
     "name": "stdout",
     "output_type": "stream",
     "text": [
      "('division by zero',)\n"
     ]
    }
   ],
   "source": [
    "try:\n",
    "    1/0\n",
    "except Exception as e:\n",
    "    print(e.args)"
   ]
  },
  {
   "cell_type": "code",
   "execution_count": 9,
   "id": "edaede5b",
   "metadata": {},
   "outputs": [
    {
     "name": "stdout",
     "output_type": "stream",
     "text": [
      "(\"'<' not supported between instances of 'int' and 'str'\",)\n"
     ]
    }
   ],
   "source": [
    "try:\n",
    "    5 < 'a'\n",
    "except Exception as e:\n",
    "    print(e.args)"
   ]
  }
 ],
 "metadata": {
  "kernelspec": {
   "display_name": "Python 3 (ipykernel)",
   "language": "python",
   "name": "python3"
  },
  "language_info": {
   "codemirror_mode": {
    "name": "ipython",
    "version": 3
   },
   "file_extension": ".py",
   "mimetype": "text/x-python",
   "name": "python",
   "nbconvert_exporter": "python",
   "pygments_lexer": "ipython3",
   "version": "3.9.7"
  }
 },
 "nbformat": 4,
 "nbformat_minor": 5
}
