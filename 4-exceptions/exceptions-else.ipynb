{
 "cells": [
  {
   "cell_type": "code",
   "execution_count": 1,
   "id": "f4151987",
   "metadata": {},
   "outputs": [
    {
     "name": "stdout",
     "output_type": "stream",
     "text": [
      "Enter an int: 0\n",
      "Something went wrong\n"
     ]
    }
   ],
   "source": [
    "try:\n",
    "    value = int(input('Enter an int: '))\n",
    "    print(1/value)\n",
    "except:\n",
    "    print('Something went wrong')\n",
    "else:\n",
    "    print('Eveyrthing is perfect')"
   ]
  },
  {
   "cell_type": "code",
   "execution_count": 2,
   "id": "8cd984d0",
   "metadata": {},
   "outputs": [
    {
     "name": "stdout",
     "output_type": "stream",
     "text": [
      "Enter an int: 1\n",
      "1.0\n",
      "Eveyrthing is perfect\n"
     ]
    }
   ],
   "source": [
    "try:\n",
    "    value = int(input('Enter an int: '))\n",
    "    print(1/value)\n",
    "except:\n",
    "    print('Something went wrong')\n",
    "else:\n",
    "    print('Eveyrthing is perfect')"
   ]
  }
 ],
 "metadata": {
  "kernelspec": {
   "display_name": "Python 3 (ipykernel)",
   "language": "python",
   "name": "python3"
  },
  "language_info": {
   "codemirror_mode": {
    "name": "ipython",
    "version": 3
   },
   "file_extension": ".py",
   "mimetype": "text/x-python",
   "name": "python",
   "nbconvert_exporter": "python",
   "pygments_lexer": "ipython3",
   "version": "3.9.7"
  }
 },
 "nbformat": 4,
 "nbformat_minor": 5
}
