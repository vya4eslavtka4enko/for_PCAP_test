{
 "cells": [
  {
   "cell_type": "code",
   "execution_count": 7,
   "id": "a6a921d9",
   "metadata": {},
   "outputs": [],
   "source": [
    "def empty_strings(user_object):\n",
    "    for prop_name in user_object.__dict__.keys():\n",
    "        prop_value = getattr(user_object, prop_name)\n",
    "        if isinstance(prop_value, str):\n",
    "            setattr(user_object, prop_name, '')"
   ]
  },
  {
   "cell_type": "code",
   "execution_count": 8,
   "id": "bf11e604",
   "metadata": {},
   "outputs": [],
   "source": [
    "class Doctor():        \n",
    "    def __init__(self, first_name = 'John', last_name = 'Smith'):\n",
    "        self.first_name = first_name\n",
    "        self.last_name = last_name\n",
    "        self.__format_names()\n",
    "    \n",
    "    def __format_names(self):\n",
    "        self.first_name = self.first_name.title()\n",
    "        self.last_name = self.last_name.title()\n",
    "        \n",
    "    def introduce(self):\n",
    "        print('Hi, I am', self.first_name)\n",
    "        \n",
    "    def compare_name(self, name_to_compare):\n",
    "        if self.first_name == name_to_compare:\n",
    "            print('We have the same name!')\n",
    "        else:\n",
    "            print('Sorry, my name is different...')\n",
    "    \n",
    "    def get_first_last_name_together(self):\n",
    "        return self.first_name + ' ' + self.last_name\n"
   ]
  },
  {
   "cell_type": "code",
   "execution_count": 9,
   "id": "376711ed",
   "metadata": {},
   "outputs": [
    {
     "name": "stdout",
     "output_type": "stream",
     "text": [
      "Hi, I am Alexander\n",
      "Hi, I am \n"
     ]
    }
   ],
   "source": [
    "doc_alex = Doctor('Alexander', 'Smith')\n",
    "doc_alex.introduce()\n",
    "empty_strings(doc_alex)\n",
    "doc_alex.introduce()"
   ]
  }
 ],
 "metadata": {
  "kernelspec": {
   "display_name": "Python 3 (ipykernel)",
   "language": "python",
   "name": "python3"
  },
  "language_info": {
   "codemirror_mode": {
    "name": "ipython",
    "version": 3
   },
   "file_extension": ".py",
   "mimetype": "text/x-python",
   "name": "python",
   "nbconvert_exporter": "python",
   "pygments_lexer": "ipython3",
   "version": "3.9.7"
  }
 },
 "nbformat": 4,
 "nbformat_minor": 5
}
