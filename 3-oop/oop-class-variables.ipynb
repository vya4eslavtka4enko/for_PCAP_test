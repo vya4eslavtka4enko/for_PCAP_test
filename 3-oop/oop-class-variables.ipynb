{
 "cells": [
  {
   "cell_type": "code",
   "execution_count": 1,
   "id": "b8962df7",
   "metadata": {},
   "outputs": [
    {
     "name": "stdout",
     "output_type": "stream",
     "text": [
      "3\n",
      "3\n",
      "3\n"
     ]
    }
   ],
   "source": [
    "class Dog():\n",
    "    counter = 0\n",
    "    def __init__(self, name, age):\n",
    "        self.__name = name\n",
    "        self.age = age\n",
    "        Dog.counter += 1\n",
    "        \n",
    "my_pet = Dog('Teddy', 2)\n",
    "kates_pet = Dog('Foxy', 5)\n",
    "adams_pet = Dog('Luna', 1)\n",
    "\n",
    "print(my_pet.counter)\n",
    "print(kates_pet.counter)\n",
    "print(adams_pet.counter)"
   ]
  },
  {
   "cell_type": "code",
   "execution_count": 2,
   "id": "b8a8de4f",
   "metadata": {},
   "outputs": [
    {
     "data": {
      "text/plain": [
       "{'_Dog__name': 'Teddy', 'age': 2}"
      ]
     },
     "execution_count": 2,
     "metadata": {},
     "output_type": "execute_result"
    }
   ],
   "source": [
    "my_pet.__dict__"
   ]
  },
  {
   "cell_type": "code",
   "execution_count": 3,
   "id": "5ee48916",
   "metadata": {},
   "outputs": [
    {
     "name": "stdout",
     "output_type": "stream",
     "text": [
      "3\n"
     ]
    }
   ],
   "source": [
    "print(Dog.counter)"
   ]
  },
  {
   "cell_type": "code",
   "execution_count": 4,
   "id": "5e5f904a",
   "metadata": {},
   "outputs": [],
   "source": [
    "class Dog():\n",
    "    __counter = 0\n",
    "    def __init__(self, name, age):\n",
    "        self.__name = name\n",
    "        self.age = age\n",
    "        Dog.__counter += 1"
   ]
  },
  {
   "cell_type": "code",
   "execution_count": 5,
   "id": "1da5d139",
   "metadata": {},
   "outputs": [
    {
     "name": "stdout",
     "output_type": "stream",
     "text": [
      "0\n"
     ]
    }
   ],
   "source": [
    "print(Dog._Dog__counter)"
   ]
  },
  {
   "cell_type": "code",
   "execution_count": 6,
   "id": "fb7f845c",
   "metadata": {
    "scrolled": true
   },
   "outputs": [
    {
     "name": "stdout",
     "output_type": "stream",
     "text": [
      "{'__module__': '__main__', '_Dog__counter': 0, '__init__': <function Dog.__init__ at 0x0000024915B79040>, '__dict__': <attribute '__dict__' of 'Dog' objects>, '__weakref__': <attribute '__weakref__' of 'Dog' objects>, '__doc__': None}\n"
     ]
    }
   ],
   "source": [
    "print(Dog.__dict__)"
   ]
  },
  {
   "cell_type": "code",
   "execution_count": 9,
   "id": "b652b6d6",
   "metadata": {},
   "outputs": [
    {
     "name": "stdout",
     "output_type": "stream",
     "text": [
      "My pet is called Tom\n",
      "The Dog class has a counter!\n"
     ]
    }
   ],
   "source": [
    "class Dog():\n",
    "    counter = 0\n",
    "    def __init__(self, name, age):\n",
    "        self.name = name\n",
    "        self.age = age\n",
    "        Dog.counter += 1\n",
    "        \n",
    "my_pet = Dog('Tom', 5)\n",
    "\n",
    "if hasattr(my_pet, 'name'):\n",
    "    print('My pet is called', my_pet.name)\n",
    "else:\n",
    "    print('My pet has no name')\n",
    "\n",
    "if hasattr(Dog, 'counter'):\n",
    "    print('The Dog class has a counter!')\n",
    "else:\n",
    "    print('The Dog class does not have a counter')\n"
   ]
  },
  {
   "cell_type": "code",
   "execution_count": 10,
   "id": "808315f3",
   "metadata": {},
   "outputs": [
    {
     "name": "stdout",
     "output_type": "stream",
     "text": [
      "Dog\n"
     ]
    }
   ],
   "source": [
    "print(Dog.__name__)"
   ]
  },
  {
   "cell_type": "code",
   "execution_count": 11,
   "id": "06b9da61",
   "metadata": {},
   "outputs": [
    {
     "data": {
      "text/plain": [
       "'Dog'"
      ]
     },
     "execution_count": 11,
     "metadata": {},
     "output_type": "execute_result"
    }
   ],
   "source": [
    "my_pet = Dog('Tom', 5)\n",
    "\n",
    "type(my_pet).__name__"
   ]
  },
  {
   "cell_type": "code",
   "execution_count": 12,
   "id": "8cba8bca",
   "metadata": {},
   "outputs": [
    {
     "name": "stdout",
     "output_type": "stream",
     "text": [
      "__main__\n"
     ]
    }
   ],
   "source": [
    "print(Dog.__module__)"
   ]
  }
 ],
 "metadata": {
  "kernelspec": {
   "display_name": "Python 3 (ipykernel)",
   "language": "python",
   "name": "python3"
  },
  "language_info": {
   "codemirror_mode": {
    "name": "ipython",
    "version": 3
   },
   "file_extension": ".py",
   "mimetype": "text/x-python",
   "name": "python",
   "nbconvert_exporter": "python",
   "pygments_lexer": "ipython3",
   "version": "3.9.7"
  }
 },
 "nbformat": 4,
 "nbformat_minor": 5
}
