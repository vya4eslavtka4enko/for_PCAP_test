{
 "cells": [
  {
   "cell_type": "code",
   "execution_count": 4,
   "id": "0e203657",
   "metadata": {},
   "outputs": [
    {
     "name": "stdout",
     "output_type": "stream",
     "text": [
      "Hi, I am Alexander\n",
      "Sorry, my name is different...\n",
      "{'first_name': 'Alexander', 'last_name': 'Smith'}\n",
      "{'__module__': '__main__', '__init__': <function Doctor.__init__ at 0x000001BF7F556C10>, '_Doctor__format_names': <function Doctor.__format_names at 0x000001BF7F556AF0>, 'introduce': <function Doctor.introduce at 0x000001BF7F5568B0>, 'compare_name': <function Doctor.compare_name at 0x000001BF7F556820>, 'get_first_last_name_together': <function Doctor.get_first_last_name_together at 0x000001BF7F556790>, '__str__': <function Doctor.__str__ at 0x000001BF7F5561F0>, '__dict__': <attribute '__dict__' of 'Doctor' objects>, '__weakref__': <attribute '__weakref__' of 'Doctor' objects>, '__doc__': None}\n"
     ]
    }
   ],
   "source": [
    "class Doctor():        \n",
    "    def __init__(self, first_name = 'John', last_name = 'Smith'):\n",
    "        self.first_name = first_name\n",
    "        self.last_name = last_name\n",
    "        self.__format_names()\n",
    "    \n",
    "    def __format_names(self):\n",
    "        self.first_name = self.first_name.title()\n",
    "        self.last_name = self.last_name.title()\n",
    "        \n",
    "    def introduce(self):\n",
    "        print('Hi, I am', self.first_name)\n",
    "        \n",
    "    def compare_name(self, name_to_compare):\n",
    "        if self.first_name == name_to_compare:\n",
    "            print('We have the same name!')\n",
    "        else:\n",
    "            print('Sorry, my name is different...')\n",
    "    \n",
    "    def get_first_last_name_together(self):\n",
    "        return self.first_name + ' ' + self.last_name\n",
    "    \n",
    "    def __str__(self):\n",
    "        return 'doctor=' + self.first_name + ' ' + self.last_name\n",
    "        \n",
    "doc_alex = Doctor('AleXandeR', 'SMith')\n",
    "doc_alex.introduce()\n",
    "doc_alex.compare_name('John')\n",
    "print(doc_alex.__dict__)\n",
    "print(Doctor.__dict__)"
   ]
  },
  {
   "cell_type": "code",
   "execution_count": 5,
   "id": "5a304d6b",
   "metadata": {},
   "outputs": [
    {
     "name": "stdout",
     "output_type": "stream",
     "text": [
      "doctor=Alexander Smith\n"
     ]
    }
   ],
   "source": [
    "print(doc_alex)"
   ]
  }
 ],
 "metadata": {
  "kernelspec": {
   "display_name": "Python 3 (ipykernel)",
   "language": "python",
   "name": "python3"
  },
  "language_info": {
   "codemirror_mode": {
    "name": "ipython",
    "version": 3
   },
   "file_extension": ".py",
   "mimetype": "text/x-python",
   "name": "python",
   "nbconvert_exporter": "python",
   "pygments_lexer": "ipython3",
   "version": "3.9.7"
  }
 },
 "nbformat": 4,
 "nbformat_minor": 5
}
