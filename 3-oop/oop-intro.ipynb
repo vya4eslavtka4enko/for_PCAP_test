{
 "cells": [
  {
   "cell_type": "code",
   "execution_count": 5,
   "id": "21786e4f",
   "metadata": {},
   "outputs": [
    {
     "name": "stdout",
     "output_type": "stream",
     "text": [
      "What is the width? 10\n",
      "What is the height? 3\n",
      "The area is 30\n"
     ]
    }
   ],
   "source": [
    "# procedural approach\n",
    "def calculate_area(width, height):\n",
    "    return width * height\n",
    "\n",
    "width = int(input('What is the width? '))\n",
    "height = int(input('What is the height? '))\n",
    "area = calculate_area(width, height)\n",
    "print('The area is', area)"
   ]
  },
  {
   "cell_type": "code",
   "execution_count": 6,
   "id": "213dbb15",
   "metadata": {},
   "outputs": [
    {
     "name": "stdout",
     "output_type": "stream",
     "text": [
      "What is the width? 10\n",
      "What is the height? 3\n",
      "The area is 30\n",
      "Hey, and what is your age? 30\n",
      "Your age multiplied by the height is 90\n"
     ]
    }
   ],
   "source": [
    "# procedural approach\n",
    "def calculate_area(width, height):\n",
    "    return width * height\n",
    "\n",
    "width = int(input('What is the width? '))\n",
    "height = int(input('What is the height? '))\n",
    "area = calculate_area(width, height)\n",
    "print('The area is', area)\n",
    "\n",
    "age = int(input('Hey, and what is your age? '))\n",
    "strange_operation = calculate_area(age, height)\n",
    "print('Your age multiplied by the height is', strange_operation)\n"
   ]
  },
  {
   "cell_type": "code",
   "execution_count": 7,
   "id": "c551016b",
   "metadata": {},
   "outputs": [
    {
     "name": "stdout",
     "output_type": "stream",
     "text": [
      "What is the width? 10\n",
      "What is the height? 3\n",
      "The area is 30\n"
     ]
    }
   ],
   "source": [
    "# object approach\n",
    "class Rectangle:\n",
    "    def __init__(self, width, height):\n",
    "      self.width = width\n",
    "      self.height = height\n",
    "    \n",
    "    def get_area(self):\n",
    "        return self.width * self.height\n",
    "\n",
    "a = int(input('What is the width? '))\n",
    "b = int(input('What is the height? '))\n",
    "\n",
    "rectangle = Rectangle(a, b)\n",
    "print('The area is', rectangle.get_area())\n"
   ]
  }
 ],
 "metadata": {
  "kernelspec": {
   "display_name": "Python 3 (ipykernel)",
   "language": "python",
   "name": "python3"
  },
  "language_info": {
   "codemirror_mode": {
    "name": "ipython",
    "version": 3
   },
   "file_extension": ".py",
   "mimetype": "text/x-python",
   "name": "python",
   "nbconvert_exporter": "python",
   "pygments_lexer": "ipython3",
   "version": "3.9.7"
  }
 },
 "nbformat": 4,
 "nbformat_minor": 5
}
