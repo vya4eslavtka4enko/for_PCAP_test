{
 "cells": [
  {
   "cell_type": "code",
   "execution_count": 26,
   "id": "ec66f17e",
   "metadata": {},
   "outputs": [],
   "source": [
    "class Car():\n",
    "    def __init__(self, model, colour, initial_speed = 0):\n",
    "        self.model = model\n",
    "        self.colour = colour\n",
    "        if initial_speed < 0:\n",
    "            self.__speed = 0\n",
    "        else:\n",
    "            self.__speed = initial_speed\n",
    "    \n",
    "    def speed_up(self):\n",
    "        self.__speed += 5\n",
    "        \n",
    "    def slow_down(self):\n",
    "        if self.__speed < 5:\n",
    "            self.__speed = 0\n",
    "        else:\n",
    "            self.__speed -= 5\n",
    "        \n",
    "    def show_speed(self):\n",
    "        print('Current speed:', self.__speed)"
   ]
  },
  {
   "cell_type": "code",
   "execution_count": 27,
   "id": "eeea6900",
   "metadata": {},
   "outputs": [
    {
     "name": "stdout",
     "output_type": "stream",
     "text": [
      "Current speed: 0\n"
     ]
    }
   ],
   "source": [
    "my_lovely_car = Car('T-Roc', 'red', -50)\n",
    "my_lovely_car.speed = -10\n",
    "my_lovely_car.show_speed()"
   ]
  }
 ],
 "metadata": {
  "kernelspec": {
   "display_name": "Python 3 (ipykernel)",
   "language": "python",
   "name": "python3"
  },
  "language_info": {
   "codemirror_mode": {
    "name": "ipython",
    "version": 3
   },
   "file_extension": ".py",
   "mimetype": "text/x-python",
   "name": "python",
   "nbconvert_exporter": "python",
   "pygments_lexer": "ipython3",
   "version": "3.9.7"
  }
 },
 "nbformat": 4,
 "nbformat_minor": 5
}
