{
 "cells": [
  {
   "cell_type": "code",
   "execution_count": 1,
   "id": "8debb61a",
   "metadata": {},
   "outputs": [],
   "source": [
    "class Animal():\n",
    "    def __init__(self):\n",
    "        self.species = 'general'\n",
    "    \n",
    "    def produce_sound(self):\n",
    "        print('General animal sound')\n",
    "\n",
    "class Dog(Animal):\n",
    "    pass"
   ]
  },
  {
   "cell_type": "code",
   "execution_count": 2,
   "id": "e676e5f3",
   "metadata": {},
   "outputs": [
    {
     "name": "stdout",
     "output_type": "stream",
     "text": [
      "general\n",
      "General animal sound\n"
     ]
    }
   ],
   "source": [
    "my_pet = Dog()\n",
    "print(my_pet.species)\n",
    "my_pet.produce_sound()"
   ]
  },
  {
   "cell_type": "code",
   "execution_count": 3,
   "id": "dfa7ccf6",
   "metadata": {},
   "outputs": [],
   "source": [
    "class Animal():\n",
    "    def __init__(self):\n",
    "        self.species = 'general'\n",
    "    \n",
    "    def produce_sound(self):\n",
    "        print('General animal sound')\n",
    "\n",
    "class Dog(Animal):\n",
    "    def __init__(self):\n",
    "        self.species = 'Canis familiaris'\n",
    "        \n",
    "    def produce_sound(self):\n",
    "        print('woof, woof!')"
   ]
  },
  {
   "cell_type": "code",
   "execution_count": 4,
   "id": "86fe1253",
   "metadata": {},
   "outputs": [
    {
     "name": "stdout",
     "output_type": "stream",
     "text": [
      "Canis familiaris\n",
      "woof, woof!\n"
     ]
    }
   ],
   "source": [
    "my_pet = Dog()\n",
    "print(my_pet.species)\n",
    "my_pet.produce_sound()"
   ]
  },
  {
   "cell_type": "code",
   "execution_count": 5,
   "id": "462ace44",
   "metadata": {},
   "outputs": [
    {
     "name": "stdout",
     "output_type": "stream",
     "text": [
      "General animal sound\n",
      "woof, woof!\n"
     ]
    }
   ],
   "source": [
    "my_first_pet = Animal()\n",
    "my_second_pet = Dog()\n",
    "\n",
    "my_first_pet.produce_sound()\n",
    "my_second_pet.produce_sound()"
   ]
  },
  {
   "cell_type": "code",
   "execution_count": 6,
   "id": "b9befba8",
   "metadata": {},
   "outputs": [],
   "source": [
    "class Animal():\n",
    "    def __init__(self):\n",
    "        self.species = 'general'\n",
    "    \n",
    "    def produce_sound(self):\n",
    "        print('General animal sound')\n",
    "        \n",
    "    def present(self):\n",
    "        print('I can do the following sound:')\n",
    "        self.produce_sound()\n",
    "\n",
    "class Dog(Animal):\n",
    "    def __init__(self):\n",
    "        self.species = 'Canis familiaris'\n",
    "        \n",
    "    def produce_sound(self):\n",
    "        print('woof, woof!')"
   ]
  },
  {
   "cell_type": "code",
   "execution_count": 7,
   "id": "634a952b",
   "metadata": {},
   "outputs": [
    {
     "name": "stdout",
     "output_type": "stream",
     "text": [
      "I can do the following sound:\n",
      "General animal sound\n",
      "\n",
      "I can do the following sound:\n",
      "woof, woof!\n"
     ]
    }
   ],
   "source": [
    "my_first_pet = Animal()\n",
    "my_second_pet = Dog()\n",
    "\n",
    "my_first_pet.present()\n",
    "print()\n",
    "my_second_pet.present()"
   ]
  }
 ],
 "metadata": {
  "kernelspec": {
   "display_name": "Python 3 (ipykernel)",
   "language": "python",
   "name": "python3"
  },
  "language_info": {
   "codemirror_mode": {
    "name": "ipython",
    "version": 3
   },
   "file_extension": ".py",
   "mimetype": "text/x-python",
   "name": "python",
   "nbconvert_exporter": "python",
   "pygments_lexer": "ipython3",
   "version": "3.9.7"
  }
 },
 "nbformat": 4,
 "nbformat_minor": 5
}
