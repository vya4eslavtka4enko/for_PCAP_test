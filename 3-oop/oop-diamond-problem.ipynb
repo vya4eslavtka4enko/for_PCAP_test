{
 "cells": [
  {
   "cell_type": "code",
   "execution_count": 1,
   "id": "f6e894af",
   "metadata": {},
   "outputs": [],
   "source": [
    "class Vehicle():\n",
    "    def show_power_type(self):\n",
    "        print('I can use power from various sources')\n",
    "\n",
    "class ElectricVehicle(Vehicle):\n",
    "    def show_power_type(self):\n",
    "        print('I can use power from electricity')\n",
    "        \n",
    "class PetrolVehicle(Vehicle):\n",
    "    def show_power_type(self):\n",
    "        print('I can use power from petrol')\n",
    "\n",
    "class HybridCar(ElectricVehicle, PetrolVehicle):\n",
    "    pass"
   ]
  },
  {
   "cell_type": "code",
   "execution_count": 2,
   "id": "d91f0744",
   "metadata": {
    "scrolled": true
   },
   "outputs": [
    {
     "name": "stdout",
     "output_type": "stream",
     "text": [
      "I can use power from electricity\n"
     ]
    }
   ],
   "source": [
    "my_toyota_yaris = HybridCar()\n",
    "my_toyota_yaris.show_power_type()"
   ]
  },
  {
   "cell_type": "code",
   "execution_count": 3,
   "id": "47fe772b",
   "metadata": {},
   "outputs": [],
   "source": [
    "class Vehicle():\n",
    "    def show_power_type(self):\n",
    "        print('I can use power from various sources')\n",
    "\n",
    "class ElectricVehicle(Vehicle):\n",
    "    def show_power_type(self):\n",
    "        print('I can use power from electricity')\n",
    "        \n",
    "class PetrolVehicle(Vehicle):\n",
    "    def show_power_type(self):\n",
    "        print('I can use power from petrol')\n",
    "\n",
    "class HybridCar(PetrolVehicle, ElectricVehicle):\n",
    "    pass"
   ]
  },
  {
   "cell_type": "code",
   "execution_count": 4,
   "id": "e1a3bff6",
   "metadata": {},
   "outputs": [
    {
     "name": "stdout",
     "output_type": "stream",
     "text": [
      "I can use power from petrol\n"
     ]
    }
   ],
   "source": [
    "my_toyota_yaris = HybridCar()\n",
    "my_toyota_yaris.show_power_type()"
   ]
  }
 ],
 "metadata": {
  "kernelspec": {
   "display_name": "Python 3 (ipykernel)",
   "language": "python",
   "name": "python3"
  },
  "language_info": {
   "codemirror_mode": {
    "name": "ipython",
    "version": 3
   },
   "file_extension": ".py",
   "mimetype": "text/x-python",
   "name": "python",
   "nbconvert_exporter": "python",
   "pygments_lexer": "ipython3",
   "version": "3.9.12"
  }
 },
 "nbformat": 4,
 "nbformat_minor": 5
}
