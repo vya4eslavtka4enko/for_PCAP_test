{
 "cells": [
  {
   "cell_type": "code",
   "execution_count": 4,
   "id": "0d3a28aa",
   "metadata": {},
   "outputs": [
    {
     "name": "stdout",
     "output_type": "stream",
     "text": [
      "Hello, I am sampleNickname and I live in sampleCity\n",
      "sampleNickname\n",
      "sampleCity\n"
     ]
    }
   ],
   "source": [
    "class User:\n",
    "    def __init__(self):\n",
    "        self.nickname = 'sampleNickname'\n",
    "        self.city = 'sampleCity'\n",
    "    \n",
    "    def introduce(self):\n",
    "        print('Hello, I am', self.nickname, 'and I live in', self.city)\n",
    "        \n",
    "sample_user = User()\n",
    "sample_user.introduce()\n",
    "print(sample_user.nickname)\n",
    "print(sample_user.city)"
   ]
  },
  {
   "cell_type": "code",
   "execution_count": 6,
   "id": "7aaf36a4",
   "metadata": {},
   "outputs": [
    {
     "name": "stdout",
     "output_type": "stream",
     "text": [
      "Hello, I am DarkKnight and I live in Hell\n",
      "DarkKnight\n",
      "Hell\n"
     ]
    }
   ],
   "source": [
    "class User:\n",
    "    def __init__(self, nickname, city):\n",
    "        self.nickname = nickname\n",
    "        self.city = city\n",
    "    \n",
    "    def introduce(self):\n",
    "        print('Hello, I am', self.nickname, 'and I live in', self.city)"
   ]
  },
  {
   "cell_type": "code",
   "execution_count": 7,
   "id": "65a63b7d",
   "metadata": {},
   "outputs": [],
   "source": [
    "first_user = User('DarkKnight', 'Hell')\n",
    "second_user = User('Ruler_of_Darkness', 'Darkness')\n",
    "third_user = User('Martin', 'Boston')"
   ]
  },
  {
   "cell_type": "code",
   "execution_count": 8,
   "id": "300cc78f",
   "metadata": {},
   "outputs": [
    {
     "name": "stdout",
     "output_type": "stream",
     "text": [
      "Hello, I am DarkKnight and I live in Hell\n",
      "Hello, I am Ruler_of_Darkness and I live in Darkness\n",
      "Hello, I am Martin and I live in Boston\n"
     ]
    }
   ],
   "source": [
    "first_user.introduce()\n",
    "second_user.introduce()\n",
    "third_user.introduce()"
   ]
  }
 ],
 "metadata": {
  "kernelspec": {
   "display_name": "Python 3 (ipykernel)",
   "language": "python",
   "name": "python3"
  },
  "language_info": {
   "codemirror_mode": {
    "name": "ipython",
    "version": 3
   },
   "file_extension": ".py",
   "mimetype": "text/x-python",
   "name": "python",
   "nbconvert_exporter": "python",
   "pygments_lexer": "ipython3",
   "version": "3.9.7"
  }
 },
 "nbformat": 4,
 "nbformat_minor": 5
}
