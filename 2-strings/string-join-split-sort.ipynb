{
 "cells": [
  {
   "cell_type": "code",
   "execution_count": 2,
   "id": "79e0d44f",
   "metadata": {},
   "outputs": [
    {
     "data": {
      "text/plain": [
       "'This is a spectacular place to be'"
      ]
     },
     "execution_count": 2,
     "metadata": {},
     "output_type": "execute_result"
    }
   ],
   "source": [
    "' '.join(['This is', 'a spectacular', 'place to be'])\n"
   ]
  },
  {
   "cell_type": "code",
   "execution_count": 3,
   "id": "279d7542",
   "metadata": {},
   "outputs": [
    {
     "data": {
      "text/plain": [
       "['How', 'many', 'strings', 'will', 'you', 'see?']"
      ]
     },
     "execution_count": 3,
     "metadata": {},
     "output_type": "execute_result"
    }
   ],
   "source": [
    "'How many\\tstrings\\nwill you see?'.split()"
   ]
  },
  {
   "cell_type": "code",
   "execution_count": 4,
   "id": "67fc20aa",
   "metadata": {},
   "outputs": [
    {
     "name": "stdout",
     "output_type": "stream",
     "text": [
      "['Adam', 'Barbara', 'Donna', 'Kate']\n"
     ]
    }
   ],
   "source": [
    "names = ['Adam', 'Kate', 'Barbara', 'Donna']\n",
    "names_sorted = sorted(['Adam', 'Kate', 'Barbara', 'Donna'])\n",
    "print(names_sorted)\n"
   ]
  },
  {
   "cell_type": "code",
   "execution_count": 5,
   "id": "b1a0257a",
   "metadata": {},
   "outputs": [
    {
     "name": "stdout",
     "output_type": "stream",
     "text": [
      "['Adam', 'Barbara', 'Donna', 'Kate']\n"
     ]
    }
   ],
   "source": [
    "names = ['Adam', 'Kate', 'Barbara', 'Donna']\n",
    "names.sort()\n",
    "print(names)\n"
   ]
  }
 ],
 "metadata": {
  "kernelspec": {
   "display_name": "Python 3 (ipykernel)",
   "language": "python",
   "name": "python3"
  },
  "language_info": {
   "codemirror_mode": {
    "name": "ipython",
    "version": 3
   },
   "file_extension": ".py",
   "mimetype": "text/x-python",
   "name": "python",
   "nbconvert_exporter": "python",
   "pygments_lexer": "ipython3",
   "version": "3.9.7"
  }
 },
 "nbformat": 4,
 "nbformat_minor": 5
}
