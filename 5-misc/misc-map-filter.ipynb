{
 "cells": [
  {
   "cell_type": "code",
   "execution_count": 11,
   "id": "e786b235",
   "metadata": {},
   "outputs": [],
   "source": [
    "lambda_func = lambda i: i * 2\n",
    "initial_list = [1, 2, 3, 4, 5]"
   ]
  },
  {
   "cell_type": "code",
   "execution_count": 12,
   "id": "7824e090",
   "metadata": {},
   "outputs": [
    {
     "data": {
      "text/plain": [
       "<map at 0x2bdde0d6730>"
      ]
     },
     "execution_count": 12,
     "metadata": {},
     "output_type": "execute_result"
    }
   ],
   "source": [
    "map(lambda_func, initial_list)"
   ]
  },
  {
   "cell_type": "code",
   "execution_count": 14,
   "id": "eb5e69d0",
   "metadata": {},
   "outputs": [
    {
     "name": "stdout",
     "output_type": "stream",
     "text": [
      "2\n",
      "4\n",
      "6\n",
      "8\n",
      "10\n"
     ]
    },
    {
     "ename": "StopIteration",
     "evalue": "",
     "output_type": "error",
     "traceback": [
      "\u001b[1;31m---------------------------------------------------------------------------\u001b[0m",
      "\u001b[1;31mStopIteration\u001b[0m                             Traceback (most recent call last)",
      "\u001b[1;32m~\\AppData\\Local\\Temp/ipykernel_820/1371085139.py\u001b[0m in \u001b[0;36m<module>\u001b[1;34m\u001b[0m\n\u001b[0;32m      5\u001b[0m \u001b[0mprint\u001b[0m\u001b[1;33m(\u001b[0m\u001b[0mnext\u001b[0m\u001b[1;33m(\u001b[0m\u001b[0mmap_result\u001b[0m\u001b[1;33m)\u001b[0m\u001b[1;33m)\u001b[0m\u001b[1;33m\u001b[0m\u001b[1;33m\u001b[0m\u001b[0m\n\u001b[0;32m      6\u001b[0m \u001b[0mprint\u001b[0m\u001b[1;33m(\u001b[0m\u001b[0mnext\u001b[0m\u001b[1;33m(\u001b[0m\u001b[0mmap_result\u001b[0m\u001b[1;33m)\u001b[0m\u001b[1;33m)\u001b[0m\u001b[1;33m\u001b[0m\u001b[1;33m\u001b[0m\u001b[0m\n\u001b[1;32m----> 7\u001b[1;33m \u001b[0mprint\u001b[0m\u001b[1;33m(\u001b[0m\u001b[0mnext\u001b[0m\u001b[1;33m(\u001b[0m\u001b[0mmap_result\u001b[0m\u001b[1;33m)\u001b[0m\u001b[1;33m)\u001b[0m\u001b[1;33m\u001b[0m\u001b[1;33m\u001b[0m\u001b[0m\n\u001b[0m",
      "\u001b[1;31mStopIteration\u001b[0m: "
     ]
    }
   ],
   "source": [
    "map_result = map(lambda_func, initial_list)\n",
    "print(next(map_result))\n",
    "print(next(map_result))\n",
    "print(next(map_result))\n",
    "print(next(map_result))\n",
    "print(next(map_result))\n",
    "print(next(map_result))"
   ]
  },
  {
   "cell_type": "code",
   "execution_count": 15,
   "id": "a5ce83e1",
   "metadata": {},
   "outputs": [
    {
     "name": "stdout",
     "output_type": "stream",
     "text": [
      "2,4,6,8,10,"
     ]
    }
   ],
   "source": [
    "map_result = map(lambda_func, initial_list)\n",
    "for element in map_result:\n",
    "    print(element, end=',')"
   ]
  },
  {
   "cell_type": "code",
   "execution_count": 16,
   "id": "883a3999",
   "metadata": {},
   "outputs": [
    {
     "name": "stdout",
     "output_type": "stream",
     "text": [
      "[2, 4, 6, 8, 10]\n"
     ]
    }
   ],
   "source": [
    "map_result = map(lambda_func, initial_list)\n",
    "print(list(map_result))"
   ]
  },
  {
   "cell_type": "code",
   "execution_count": 17,
   "id": "79bcb5d8",
   "metadata": {},
   "outputs": [
    {
     "name": "stdout",
     "output_type": "stream",
     "text": [
      "[2, 4, 6, 8, 10]\n"
     ]
    }
   ],
   "source": [
    "lambda_func = lambda i: i * 2\n",
    "initial_list = [1, 2, 3, 4, 5]\n",
    "map_result = map(lambda_func, initial_list)\n",
    "print(list(map_result))"
   ]
  },
  {
   "cell_type": "code",
   "execution_count": 18,
   "id": "fdaa5ab4",
   "metadata": {},
   "outputs": [
    {
     "name": "stdout",
     "output_type": "stream",
     "text": [
      "[2, 4, 6, 8, 10]\n"
     ]
    }
   ],
   "source": [
    "print(list(map(lambda i: i * 2, [1, 2, 3, 4, 5])))"
   ]
  },
  {
   "cell_type": "code",
   "execution_count": 20,
   "id": "df1f2b76",
   "metadata": {},
   "outputs": [
    {
     "name": "stdout",
     "output_type": "stream",
     "text": [
      "[2, 4, 6, 8]\n"
     ]
    }
   ],
   "source": [
    "print(list(filter(lambda i: i % 2 == 0, [1, 2, 3, 4, 5, 6, 7, 8])))"
   ]
  },
  {
   "cell_type": "code",
   "execution_count": 22,
   "id": "5b08f082",
   "metadata": {},
   "outputs": [
    {
     "data": {
      "text/plain": [
       "['frank@gmail.com', 'jonsmith@yahoo.com', 'whereareyou@mywebsite.co.uk']"
      ]
     },
     "execution_count": 22,
     "metadata": {},
     "output_type": "execute_result"
    }
   ],
   "source": [
    "emails = [\n",
    "    'frank@gmail.com',\n",
    "    'i love python',\n",
    "    '98237434',\n",
    "    'jonsmith@yahoo.com',\n",
    "    'whereareyou@mywebsite.co.uk',\n",
    "    'fs3dfss'\n",
    "]\n",
    "list(filter(lambda x: '@' in x, emails))"
   ]
  }
 ],
 "metadata": {
  "kernelspec": {
   "display_name": "Python 3 (ipykernel)",
   "language": "python",
   "name": "python3"
  },
  "language_info": {
   "codemirror_mode": {
    "name": "ipython",
    "version": 3
   },
   "file_extension": ".py",
   "mimetype": "text/x-python",
   "name": "python",
   "nbconvert_exporter": "python",
   "pygments_lexer": "ipython3",
   "version": "3.9.7"
  }
 },
 "nbformat": 4,
 "nbformat_minor": 5
}
