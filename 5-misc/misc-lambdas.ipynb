{
 "cells": [
  {
   "cell_type": "code",
   "execution_count": null,
   "id": "cebb1147",
   "metadata": {},
   "outputs": [],
   "source": [
    "def function_name(parameter1, parameter2):\n",
    "  #instruction1\n",
    "  #instruction2\n"
   ]
  },
  {
   "cell_type": "code",
   "execution_count": null,
   "id": "cdf3ef74",
   "metadata": {},
   "outputs": [],
   "source": [
    "lambda parameter1, parameter2: #instruction"
   ]
  },
  {
   "cell_type": "code",
   "execution_count": 2,
   "id": "63cf23af",
   "metadata": {},
   "outputs": [],
   "source": [
    "def sum(a, b):\n",
    "    return a + b"
   ]
  },
  {
   "cell_type": "code",
   "execution_count": 3,
   "id": "8be6f61d",
   "metadata": {},
   "outputs": [
    {
     "data": {
      "text/plain": [
       "<function __main__.<lambda>(a, b)>"
      ]
     },
     "execution_count": 3,
     "metadata": {},
     "output_type": "execute_result"
    }
   ],
   "source": [
    "lambda a, b: a + b"
   ]
  },
  {
   "cell_type": "code",
   "execution_count": 4,
   "id": "b49acfea",
   "metadata": {},
   "outputs": [
    {
     "data": {
      "text/plain": [
       "<function __main__.<lambda>(x, y)>"
      ]
     },
     "execution_count": 4,
     "metadata": {},
     "output_type": "execute_result"
    }
   ],
   "source": [
    "lambda x, y: x + y"
   ]
  },
  {
   "cell_type": "code",
   "execution_count": 5,
   "id": "eb89cf92",
   "metadata": {
    "scrolled": true
   },
   "outputs": [
    {
     "data": {
      "text/plain": [
       "8"
      ]
     },
     "execution_count": 5,
     "metadata": {},
     "output_type": "execute_result"
    }
   ],
   "source": [
    "sum(5, 3)"
   ]
  },
  {
   "cell_type": "code",
   "execution_count": 6,
   "id": "bd372f6e",
   "metadata": {},
   "outputs": [],
   "source": [
    "another_sum = lambda a, b: a + b"
   ]
  },
  {
   "cell_type": "code",
   "execution_count": 7,
   "id": "bdc07934",
   "metadata": {},
   "outputs": [
    {
     "data": {
      "text/plain": [
       "8"
      ]
     },
     "execution_count": 7,
     "metadata": {},
     "output_type": "execute_result"
    }
   ],
   "source": [
    "another_sum(5, 3)"
   ]
  },
  {
   "cell_type": "code",
   "execution_count": 8,
   "id": "228a0976",
   "metadata": {},
   "outputs": [],
   "source": [
    "def apply_func(elements, func):\n",
    "    for element in elements:\n",
    "        print(func(element))"
   ]
  },
  {
   "cell_type": "code",
   "execution_count": 9,
   "id": "e36ecc7d",
   "metadata": {},
   "outputs": [
    {
     "name": "stdout",
     "output_type": "stream",
     "text": [
      "1\n",
      "4\n",
      "9\n",
      "16\n",
      "25\n"
     ]
    }
   ],
   "source": [
    "my_func = lambda x: x * x\n",
    "apply_func([1, 2, 3, 4, 5], my_func)"
   ]
  },
  {
   "cell_type": "code",
   "execution_count": 10,
   "id": "ba653e1e",
   "metadata": {},
   "outputs": [
    {
     "name": "stdout",
     "output_type": "stream",
     "text": [
      "1.0\n",
      "0.5\n",
      "0.3333333333333333\n",
      "0.25\n",
      "0.2\n"
     ]
    }
   ],
   "source": [
    "my_func = lambda x: 1/x\n",
    "apply_func([1, 2, 3, 4, 5], my_func)"
   ]
  },
  {
   "cell_type": "code",
   "execution_count": 11,
   "id": "6f4665fa",
   "metadata": {
    "scrolled": true
   },
   "outputs": [
    {
     "name": "stdout",
     "output_type": "stream",
     "text": [
      "0\n",
      "0\n",
      "0\n",
      "0\n",
      "0\n"
     ]
    }
   ],
   "source": [
    "my_func = lambda x: 0\n",
    "apply_func([1, 2, 3, 4, 5], my_func)"
   ]
  },
  {
   "cell_type": "code",
   "execution_count": 12,
   "id": "fefdfa1f",
   "metadata": {},
   "outputs": [
    {
     "name": "stdout",
     "output_type": "stream",
     "text": [
      "1\n",
      "4\n",
      "9\n",
      "16\n",
      "25\n"
     ]
    }
   ],
   "source": [
    "apply_func([1, 2, 3, 4, 5], lambda x: x * x)"
   ]
  }
 ],
 "metadata": {
  "kernelspec": {
   "display_name": "Python 3 (ipykernel)",
   "language": "python",
   "name": "python3"
  },
  "language_info": {
   "codemirror_mode": {
    "name": "ipython",
    "version": 3
   },
   "file_extension": ".py",
   "mimetype": "text/x-python",
   "name": "python",
   "nbconvert_exporter": "python",
   "pygments_lexer": "ipython3",
   "version": "3.9.7"
  }
 },
 "nbformat": 4,
 "nbformat_minor": 5
}
