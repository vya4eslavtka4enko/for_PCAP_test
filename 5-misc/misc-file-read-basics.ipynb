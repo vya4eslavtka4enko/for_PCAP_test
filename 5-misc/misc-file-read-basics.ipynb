{
 "cells": [
  {
   "cell_type": "code",
   "execution_count": 2,
   "id": "5861775b",
   "metadata": {},
   "outputs": [],
   "source": [
    "try:\n",
    "    stream = open('animals.txt')\n",
    "    # your code goes here\n",
    "    stream.close()\n",
    "except Exception as e:\n",
    "    print('An error occurred: ', e)"
   ]
  },
  {
   "cell_type": "code",
   "execution_count": 3,
   "id": "b4abf1fb",
   "metadata": {
    "scrolled": true
   },
   "outputs": [
    {
     "name": "stdout",
     "output_type": "stream",
     "text": [
      "An error occurred:  [Errno 2] No such file or directory: 'animalsssd.txt'\n"
     ]
    }
   ],
   "source": [
    "try:\n",
    "    stream = open('animalsssd.txt')\n",
    "    # your code goes here\n",
    "    stream.close()\n",
    "except Exception as e:\n",
    "    print('An error occurred: ', e)"
   ]
  },
  {
   "cell_type": "code",
   "execution_count": 5,
   "id": "532b8304",
   "metadata": {},
   "outputs": [
    {
     "name": "stdout",
     "output_type": "stream",
     "text": [
      "PIG is a domestic animal.\n",
      "LION is a wild animal.\n",
      "FOX is a wild animal that is sometimes kept as a pet. \n"
     ]
    }
   ],
   "source": [
    "try:\n",
    "    stream = open('animals.txt')\n",
    "    print(stream.read())\n",
    "    stream.close()\n",
    "except Exception as e:\n",
    "    print('An error occurred: ', e)"
   ]
  },
  {
   "cell_type": "code",
   "execution_count": 7,
   "id": "e3c6f4e6",
   "metadata": {},
   "outputs": [
    {
     "name": "stdout",
     "output_type": "stream",
     "text": [
      "PIG is a d\n",
      "omestic an\n"
     ]
    }
   ],
   "source": [
    "try:\n",
    "    stream = open('animals.txt')\n",
    "    print(stream.read(10))\n",
    "    print(stream.read(10))\n",
    "    stream.close()\n",
    "except Exception as e:\n",
    "    print('An error occurred: ', e)"
   ]
  },
  {
   "cell_type": "code",
   "execution_count": 8,
   "id": "988b3b90",
   "metadata": {},
   "outputs": [
    {
     "name": "stdout",
     "output_type": "stream",
     "text": [
      "PIG is a domestic animal.\n",
      "LION is a wild animal.\n",
      "FOX is a wild animal that is sometimes kept as a pet. \n",
      "\n"
     ]
    }
   ],
   "source": [
    "try:\n",
    "    stream = open('animals.txt')\n",
    "    print(stream.read(10000))\n",
    "    print(stream.read(1))\n",
    "    stream.close()\n",
    "except Exception as e:\n",
    "    print('An error occurred: ', e)"
   ]
  },
  {
   "cell_type": "code",
   "execution_count": 9,
   "id": "fb173370",
   "metadata": {},
   "outputs": [
    {
     "name": "stdout",
     "output_type": "stream",
     "text": [
      "P-I-G- -i-s- -a- -d-o-m-e-s-t-i-c- -a-n-i-m-a-l-.-\n",
      "-L-I-O-N- -i-s- -a- -w-i-l-d- -a-n-i-m-a-l-.-\n",
      "-F-O-X- -i-s- -a- -w-i-l-d- -a-n-i-m-a-l- -t-h-a-t- -i-s- -s-o-m-e-t-i-m-e-s- -k-e-p-t- -a-s- -a- -p-e-t-.- -"
     ]
    }
   ],
   "source": [
    "try:\n",
    "    stream = open('animals.txt')\n",
    "    character = stream.read(1)\n",
    "    while character != '':\n",
    "        print(character, end='-')\n",
    "        character = stream.read(1)\n",
    "    stream.close()\n",
    "except Exception as e:\n",
    "    print('An error occurred: ', e)"
   ]
  },
  {
   "cell_type": "code",
   "execution_count": 10,
   "id": "12bfff05",
   "metadata": {},
   "outputs": [
    {
     "name": "stdout",
     "output_type": "stream",
     "text": [
      "P-I-G- -i-s- -a- -d-o-m-e-s-t-i-c- -a-n-i-m-a-l-.-\n",
      "-L-I-O-N- -i-s- -a- -w-i-l-d- -a-n-i-m-a-l-.-\n",
      "-F-O-X- -i-s- -a- -w-i-l-d- -a-n-i-m-a-l- -t-h-a-t- -i-s- -s-o-m-e-t-i-m-e-s- -k-e-p-t- -a-s- -a- -p-e-t-.- -\n",
      "Number of characters: 103\n"
     ]
    }
   ],
   "source": [
    "try:\n",
    "    stream = open('animals.txt')\n",
    "    counter = 0\n",
    "    character = stream.read(1)\n",
    "    while character != '':\n",
    "        counter += 1\n",
    "        print(character, end='-')\n",
    "        character = stream.read(1)\n",
    "    stream.close()\n",
    "    print('\\nNumber of characters:', counter)\n",
    "except Exception as e:\n",
    "    print('An error occurred: ', e)"
   ]
  },
  {
   "cell_type": "code",
   "execution_count": 11,
   "id": "21bcebfb",
   "metadata": {},
   "outputs": [
    {
     "name": "stdout",
     "output_type": "stream",
     "text": [
      "PIG is a domestic animal.\n",
      "-LION is a wild animal.\n",
      "-FOX is a wild animal that is sometimes kept as a pet. -\n",
      "Number of lines: 3\n"
     ]
    }
   ],
   "source": [
    "try:\n",
    "    stream = open('animals.txt')\n",
    "    counter = 0\n",
    "    line = stream.readline()\n",
    "    while line != '':\n",
    "        counter += 1\n",
    "        print(line, end='-')\n",
    "        line = stream.readline()\n",
    "    stream.close()\n",
    "    print('\\nNumber of lines:', counter)\n",
    "except Exception as e:\n",
    "    print('An error occurred: ', e)"
   ]
  },
  {
   "cell_type": "code",
   "execution_count": 12,
   "id": "170869bd",
   "metadata": {},
   "outputs": [
    {
     "name": "stdout",
     "output_type": "stream",
     "text": [
      "Content of the lines var: ['PIG is a domestic animal.\\n', 'LION is a wild animal.\\n', 'FOX is a wild animal that is sometimes kept as a pet. ']\n",
      "Number of lines in the file: 3\n",
      "PIG is a domestic animal.\n",
      "LION is a wild animal.\n",
      "FOX is a wild animal that is sometimes kept as a pet. "
     ]
    }
   ],
   "source": [
    "try:\n",
    "    stream = open('animals.txt')\n",
    "    lines = stream.readlines()\n",
    "    print('Content of the lines var:', lines)\n",
    "    print('Number of lines in the file:', len(lines))\n",
    "    for line in lines:\n",
    "        print(line, end='')\n",
    "    stream.close()\n",
    "except Exception as e:\n",
    "    print('An error occurred: ', e)"
   ]
  },
  {
   "cell_type": "code",
   "execution_count": 13,
   "id": "916352b8",
   "metadata": {},
   "outputs": [
    {
     "name": "stdout",
     "output_type": "stream",
     "text": [
      "PIG is a domestic animal.\n",
      "\n",
      "LION is a wild animal.\n",
      "\n",
      "FOX is a wild animal that is sometimes kept as a pet. \n"
     ]
    }
   ],
   "source": [
    "try:\n",
    "    stream = open('animals.txt')\n",
    "    lines = stream.readlines(2)\n",
    "    while len(lines) != 0:\n",
    "        for line in lines:\n",
    "            print(line, sep='')\n",
    "        lines = stream.readlines(2)\n",
    "    stream.close()\n",
    "except Exception as e:\n",
    "    print('An error occurred: ', e)"
   ]
  },
  {
   "cell_type": "code",
   "execution_count": 14,
   "id": "5342f8f2",
   "metadata": {},
   "outputs": [
    {
     "name": "stdout",
     "output_type": "stream",
     "text": [
      "PIG is a domestic animal.\n",
      "LION is a wild animal.\n",
      "FOX is a wild animal that is sometimes kept as a pet. "
     ]
    }
   ],
   "source": [
    "try:\n",
    "    stream = open('animals.txt')\n",
    "    for line in stream:\n",
    "        print(line, end='')\n",
    "except Exception as e:\n",
    "    print('An error occurred: ', e)"
   ]
  }
 ],
 "metadata": {
  "kernelspec": {
   "display_name": "Python 3 (ipykernel)",
   "language": "python",
   "name": "python3"
  },
  "language_info": {
   "codemirror_mode": {
    "name": "ipython",
    "version": 3
   },
   "file_extension": ".py",
   "mimetype": "text/x-python",
   "name": "python",
   "nbconvert_exporter": "python",
   "pygments_lexer": "ipython3",
   "version": "3.9.7"
  }
 },
 "nbformat": 4,
 "nbformat_minor": 5
}
