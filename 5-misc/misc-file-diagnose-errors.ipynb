{
 "cells": [
  {
   "cell_type": "code",
   "execution_count": 5,
   "id": "12f4acf0",
   "metadata": {},
   "outputs": [
    {
     "name": "stdout",
     "output_type": "stream",
     "text": [
      "An error occurred:  [Errno 2] No such file or directory: 'nonexistent.txt'\n"
     ]
    }
   ],
   "source": [
    "try:\n",
    "    stream = open('nonexistent.txt')\n",
    "    stream.close()\n",
    "except Exception as e:\n",
    "    print('An error occurred: ', e)"
   ]
  },
  {
   "cell_type": "code",
   "execution_count": 6,
   "id": "ed1af9f5",
   "metadata": {},
   "outputs": [
    {
     "name": "stdout",
     "output_type": "stream",
     "text": [
      "2\n"
     ]
    }
   ],
   "source": [
    "try:\n",
    "    stream = open('nonexistent.txt')\n",
    "    stream.close()\n",
    "except Exception as e:\n",
    "    print(e.errno)"
   ]
  },
  {
   "cell_type": "code",
   "execution_count": 7,
   "id": "90e2e861",
   "metadata": {},
   "outputs": [
    {
     "name": "stdout",
     "output_type": "stream",
     "text": [
      "No such file or directory\n"
     ]
    }
   ],
   "source": [
    "from os import strerror\n",
    "\n",
    "try:\n",
    "    stream = open('nonexistent.txt')\n",
    "    stream.close()\n",
    "except Exception as e:\n",
    "    print(strerror(e.errno))"
   ]
  }
 ],
 "metadata": {
  "kernelspec": {
   "display_name": "Python 3 (ipykernel)",
   "language": "python",
   "name": "python3"
  },
  "language_info": {
   "codemirror_mode": {
    "name": "ipython",
    "version": 3
   },
   "file_extension": ".py",
   "mimetype": "text/x-python",
   "name": "python",
   "nbconvert_exporter": "python",
   "pygments_lexer": "ipython3",
   "version": "3.9.7"
  }
 },
 "nbformat": 4,
 "nbformat_minor": 5
}
