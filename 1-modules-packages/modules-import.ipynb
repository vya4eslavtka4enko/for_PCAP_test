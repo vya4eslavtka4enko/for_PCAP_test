{
 "cells": [
  {
   "cell_type": "code",
   "execution_count": 1,
   "id": "d0076d51",
   "metadata": {},
   "outputs": [],
   "source": [
    "import sys"
   ]
  },
  {
   "cell_type": "code",
   "execution_count": 2,
   "id": "c2011cdb",
   "metadata": {},
   "outputs": [],
   "source": [
    "import sys\n",
    "import math"
   ]
  },
  {
   "cell_type": "code",
   "execution_count": 3,
   "id": "a702e787",
   "metadata": {},
   "outputs": [],
   "source": [
    "import sys, math"
   ]
  },
  {
   "cell_type": "code",
   "execution_count": 4,
   "id": "f9a25cd0",
   "metadata": {},
   "outputs": [
    {
     "name": "stdout",
     "output_type": "stream",
     "text": [
      "__breakpointhook__\t__displayhook__\t__doc__\t__excepthook__\t__interactivehook__\t__loader__\t__name__\t__package__\t__spec__\t__stderr__\t__stdin__\t__stdout__\t__unraisablehook__\t_base_executable\t_clear_type_cache\t_current_frames\t_debugmallocstats\t_enablelegacywindowsfsencoding\t_framework\t_getframe\t_git\t_home\t_xoptions\taddaudithook\tapi_version\targv\taudit\tbase_exec_prefix\tbase_prefix\tbreakpointhook\tbuiltin_module_names\tbyteorder\tcall_tracing\tcopyright\tdisplayhook\tdllhandle\tdont_write_bytecode\texc_info\texcepthook\texec_prefix\texecutable\texit\tflags\tfloat_info\tfloat_repr_style\tget_asyncgen_hooks\tget_coroutine_origin_tracking_depth\tgetallocatedblocks\tgetdefaultencoding\tgetfilesystemencodeerrors\tgetfilesystemencoding\tgetprofile\tgetrecursionlimit\tgetrefcount\tgetsizeof\tgetswitchinterval\tgettrace\tgetwindowsversion\thash_info\thexversion\timplementation\tint_info\tintern\tis_finalizing\tmaxsize\tmaxunicode\tmeta_path\tmodules\tpath\tpath_hooks\tpath_importer_cache\tplatform\tplatlibdir\tprefix\tps1\tps2\tps3\tpycache_prefix\tset_asyncgen_hooks\tset_coroutine_origin_tracking_depth\tsetprofile\tsetrecursionlimit\tsetswitchinterval\tsettrace\tstderr\tstdin\tstdout\tthread_info\tunraisablehook\tversion\tversion_info\twarnoptions\twinver\t"
     ]
    }
   ],
   "source": [
    "import sys\n",
    "\n",
    "for name in dir(sys):\n",
    "    print(name, end='\\t')"
   ]
  },
  {
   "cell_type": "code",
   "execution_count": 5,
   "id": "d298c451",
   "metadata": {},
   "outputs": [
    {
     "ename": "SystemExit",
     "evalue": "",
     "output_type": "error",
     "traceback": [
      "An exception has occurred, use %tb to see the full traceback.\n",
      "\u001b[1;31mSystemExit\u001b[0m\n"
     ]
    },
    {
     "name": "stderr",
     "output_type": "stream",
     "text": [
      "C:\\Users\\Adrian\\anaconda3\\lib\\site-packages\\IPython\\core\\interactiveshell.py:3452: UserWarning: To exit: use 'exit', 'quit', or Ctrl-D.\n",
      "  warn(\"To exit: use 'exit', 'quit', or Ctrl-D.\", stacklevel=1)\n"
     ]
    }
   ],
   "source": [
    "import sys\n",
    "sys.exit()"
   ]
  },
  {
   "cell_type": "code",
   "execution_count": 6,
   "id": "0e65cc19",
   "metadata": {},
   "outputs": [
    {
     "ename": "AttributeError",
     "evalue": "module 'sys' has no attribute 'exit324'",
     "output_type": "error",
     "traceback": [
      "\u001b[1;31m---------------------------------------------------------------------------\u001b[0m",
      "\u001b[1;31mAttributeError\u001b[0m                            Traceback (most recent call last)",
      "\u001b[1;32m~\\AppData\\Local\\Temp/ipykernel_2136/1939753874.py\u001b[0m in \u001b[0;36m<module>\u001b[1;34m\u001b[0m\n\u001b[0;32m      1\u001b[0m \u001b[1;32mimport\u001b[0m \u001b[0msys\u001b[0m\u001b[1;33m\u001b[0m\u001b[1;33m\u001b[0m\u001b[0m\n\u001b[0;32m      2\u001b[0m \u001b[1;33m\u001b[0m\u001b[0m\n\u001b[1;32m----> 3\u001b[1;33m \u001b[0msys\u001b[0m\u001b[1;33m.\u001b[0m\u001b[0mexit324\u001b[0m\u001b[1;33m(\u001b[0m\u001b[1;33m)\u001b[0m\u001b[1;33m\u001b[0m\u001b[1;33m\u001b[0m\u001b[0m\n\u001b[0m",
      "\u001b[1;31mAttributeError\u001b[0m: module 'sys' has no attribute 'exit324'"
     ]
    }
   ],
   "source": [
    "import sys\n",
    "\n",
    "sys.exit324()"
   ]
  },
  {
   "cell_type": "code",
   "execution_count": 7,
   "id": "1a68f018",
   "metadata": {},
   "outputs": [
    {
     "name": "stdout",
     "output_type": "stream",
     "text": [
      "I wanna exit\n"
     ]
    },
    {
     "ename": "SystemExit",
     "evalue": "",
     "output_type": "error",
     "traceback": [
      "An exception has occurred, use %tb to see the full traceback.\n",
      "\u001b[1;31mSystemExit\u001b[0m\n"
     ]
    }
   ],
   "source": [
    "import sys\n",
    "\n",
    "def exit():\n",
    "    print('I wanna exit')\n",
    "    \n",
    "exit()\n",
    "sys.exit()"
   ]
  },
  {
   "cell_type": "code",
   "execution_count": 8,
   "id": "0467ede0",
   "metadata": {},
   "outputs": [
    {
     "ename": "SystemExit",
     "evalue": "",
     "output_type": "error",
     "traceback": [
      "An exception has occurred, use %tb to see the full traceback.\n",
      "\u001b[1;31mSystemExit\u001b[0m\n"
     ]
    }
   ],
   "source": [
    "from sys import exit\n",
    "\n",
    "exit()"
   ]
  },
  {
   "cell_type": "code",
   "execution_count": 9,
   "id": "d73998ef",
   "metadata": {},
   "outputs": [
    {
     "name": "stdout",
     "output_type": "stream",
     "text": [
      "I wanna exit\n"
     ]
    }
   ],
   "source": [
    "from sys import exit\n",
    "\n",
    "def exit():\n",
    "    print('I wanna exit')\n",
    "\n",
    "exit()"
   ]
  },
  {
   "cell_type": "code",
   "execution_count": null,
   "id": "0d6ad132",
   "metadata": {},
   "outputs": [],
   "source": [
    "from sys import *"
   ]
  },
  {
   "cell_type": "code",
   "execution_count": 10,
   "id": "a0f4ed57",
   "metadata": {},
   "outputs": [],
   "source": [
    "import sys # you need to add sys.\n",
    "from sys import *"
   ]
  },
  {
   "cell_type": "code",
   "execution_count": 11,
   "id": "3d82fb54",
   "metadata": {},
   "outputs": [
    {
     "ename": "SystemExit",
     "evalue": "",
     "output_type": "error",
     "traceback": [
      "An exception has occurred, use %tb to see the full traceback.\n",
      "\u001b[1;31mSystemExit\u001b[0m\n"
     ]
    }
   ],
   "source": [
    "import sys as s\n",
    "\n",
    "s.exit()"
   ]
  },
  {
   "cell_type": "code",
   "execution_count": 12,
   "id": "24b466e6",
   "metadata": {},
   "outputs": [
    {
     "ename": "SystemExit",
     "evalue": "",
     "output_type": "error",
     "traceback": [
      "An exception has occurred, use %tb to see the full traceback.\n",
      "\u001b[1;31mSystemExit\u001b[0m\n"
     ]
    }
   ],
   "source": [
    "from sys import exit as bye_bye\n",
    "\n",
    "bye_bye()"
   ]
  }
 ],
 "metadata": {
  "kernelspec": {
   "display_name": "Python 3 (ipykernel)",
   "language": "python",
   "name": "python3"
  },
  "language_info": {
   "codemirror_mode": {
    "name": "ipython",
    "version": 3
   },
   "file_extension": ".py",
   "mimetype": "text/x-python",
   "name": "python",
   "nbconvert_exporter": "python",
   "pygments_lexer": "ipython3",
   "version": "3.9.7"
  }
 },
 "nbformat": 4,
 "nbformat_minor": 5
}
